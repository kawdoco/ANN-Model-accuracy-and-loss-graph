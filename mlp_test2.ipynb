{
 "cells": [
  {
   "cell_type": "code",
   "execution_count": 1,
   "metadata": {},
   "outputs": [],
   "source": [
    "from __future__ import absolute_import, division, print_function, unicode_literals\n",
    "import tensorflow as tf\n",
    "from tensorflow import keras\n",
    "\n",
    "import os\n",
    "import tempfile\n",
    "\n",
    "import matplotlib as mpl\n",
    "import matplotlib.pyplot as plt\n",
    "import numpy as np\n",
    "import pandas as pd\n",
    "import seaborn as sns"
   ]
  },
  {
   "cell_type": "code",
   "execution_count": 2,
   "metadata": {},
   "outputs": [
    {
     "data": {
      "text/plain": [
       "IsCanceled                       int64\n",
       "LeadTime                         int64\n",
       "ArrivalDateYear                  int64\n",
       "ArrivalDateMonth                object\n",
       "ArrivalDateWeekNumber            int64\n",
       "ArrivalDateDayOfMonth            int64\n",
       "StaysInWeekendNights             int64\n",
       "StaysInWeekNights                int64\n",
       "Adults                           int64\n",
       "Children                         int64\n",
       "Babies                           int64\n",
       "Meal                            object\n",
       "Country                         object\n",
       "MarketSegment                   object\n",
       "DistributionChannel             object\n",
       "IsRepeatedGuest                  int64\n",
       "PreviousCancellations            int64\n",
       "PreviousBookingsNotCanceled      int64\n",
       "ReservedRoomType                object\n",
       "AssignedRoomType                object\n",
       "BookingChanges                   int64\n",
       "DepositType                     object\n",
       "Agent                           object\n",
       "Company                         object\n",
       "DaysInWaitingList                int64\n",
       "CustomerType                    object\n",
       "ADR                            float64\n",
       "RequiredCarParkingSpaces         int64\n",
       "TotalOfSpecialRequests           int64\n",
       "ReservationStatus               object\n",
       "ReservationStatusDate           object\n",
       "dtype: object"
      ]
     },
     "execution_count": 2,
     "metadata": {},
     "output_type": "execute_result"
    }
   ],
   "source": [
    "from tensorflow import feature_column\n",
    "from tensorflow.keras import layers\n",
    "from sklearn.model_selection import train_test_split\n",
    "\n",
    "file = tf.keras.utils\n",
    "\n",
    "dataframe = pd.read_csv(r'C:\\Users\\Susara\\Documents\\ANN\\H1.csv' )\n",
    "#dataframe.head()\n",
    "dataframe.dtypes\n"
   ]
  },
  {
   "cell_type": "code",
   "execution_count": 3,
   "metadata": {},
   "outputs": [
    {
     "name": "stdout",
     "output_type": "stream",
     "text": [
      "25638 train examples\n",
      "6410 validation examples\n",
      "8012 test examples\n"
     ]
    }
   ],
   "source": [
    "train, test = train_test_split(dataframe, test_size=0.2)\n",
    "train, val = train_test_split(train, test_size=0.2)\n",
    "print(len(train), 'train examples')\n",
    "print(len(val), 'validation examples')\n",
    "print(len(test), 'test examples')"
   ]
  },
  {
   "cell_type": "code",
   "execution_count": null,
   "metadata": {},
   "outputs": [],
   "source": []
  }
 ],
 "metadata": {
  "kernelspec": {
   "display_name": "Python 3",
   "language": "python",
   "name": "python3"
  },
  "language_info": {
   "codemirror_mode": {
    "name": "ipython",
    "version": 3
   },
   "file_extension": ".py",
   "mimetype": "text/x-python",
   "name": "python",
   "nbconvert_exporter": "python",
   "pygments_lexer": "ipython3",
   "version": "3.6.10"
  }
 },
 "nbformat": 4,
 "nbformat_minor": 4
}
